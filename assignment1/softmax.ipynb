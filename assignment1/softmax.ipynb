{
 "cells": [
  {
   "cell_type": "code",
   "execution_count": 1,
   "id": "d8aaae81",
   "metadata": {
    "colab": {
     "base_uri": "https://localhost:8080/"
    },
    "id": "d8aaae81",
    "outputId": "a90ffb57-62e6-41aa-b3b9-b185dc35abb0"
   },
   "outputs": [
    {
     "name": "stdout",
     "output_type": "stream",
     "text": [
      "Drive already mounted at /content/drive; to attempt to forcibly remount, call drive.mount(\"/content/drive\", force_remount=True).\n",
      "/content/drive/My Drive/cs231n/assignments/assignment1/cs231n/datasets\n",
      "/content/drive/My Drive/cs231n/assignments/assignment1\n"
     ]
    }
   ],
   "source": [
    "# This mounts your Google Drive to the Colab VM.\n",
    "from google.colab import drive\n",
    "\n",
    "drive.mount(\"/content/drive\")\n",
    "\n",
    "# TODO: Enter the foldername in your Drive where you have saved the unzipped\n",
    "# assignment folder, e.g. 'cs231n/assignments/assignment1/'\n",
    "FOLDERNAME = \"cs231n/assignments/assignment1/\"\n",
    "assert FOLDERNAME is not None, \"[!] Enter the foldername.\"\n",
    "\n",
    "# Now that we've mounted your Drive, this ensures that\n",
    "# the Python interpreter of the Colab VM can load\n",
    "# python files from within it.\n",
    "import sys\n",
    "\n",
    "sys.path.append(\"/content/drive/My Drive/{}\".format(FOLDERNAME))\n",
    "\n",
    "# This downloads the CIFAR-10 dataset to your Drive\n",
    "# if it doesn't already exist.\n",
    "%cd /content/drive/My\\ Drive/$FOLDERNAME/cs231n/datasets/\n",
    "!bash get_datasets.sh\n",
    "%cd /content/drive/My\\ Drive/$FOLDERNAME"
   ]
  },
  {
   "cell_type": "markdown",
   "id": "e2c3cfa1",
   "metadata": {
    "id": "e2c3cfa1",
    "tags": [
     "pdf-title"
    ]
   },
   "source": [
    "# Softmax exercise\n",
    "\n",
    "*Complete and hand in this completed worksheet (including its outputs and any supporting code outside of the worksheet) with your assignment submission. For more details see the [assignments page](http://vision.stanford.edu/teaching/cs231n/assignments.html) on the course website.*\n",
    "\n",
    "This exercise is analogous to the SVM exercise. You will:\n",
    "\n",
    "- implement a fully-vectorized **loss function** for the Softmax classifier\n",
    "- implement the fully-vectorized expression for its **analytic gradient**\n",
    "- **check your implementation** with numerical gradient\n",
    "- use a validation set to **tune the learning rate and regularization** strength\n",
    "- **optimize** the loss function with **SGD**\n",
    "- **visualize** the final learned weights\n"
   ]
  },
  {
   "cell_type": "code",
   "execution_count": 2,
   "id": "c55a72bf",
   "metadata": {
    "id": "c55a72bf",
    "tags": [
     "pdf-ignore"
    ]
   },
   "outputs": [],
   "source": [
    "import random\n",
    "import numpy as np\n",
    "from cs231n.data_utils import load_CIFAR10\n",
    "import matplotlib.pyplot as plt\n",
    "\n",
    "%matplotlib inline\n",
    "plt.rcParams[\"figure.figsize\"] = (10.0, 8.0)  # set default size of plots\n",
    "plt.rcParams[\"image.interpolation\"] = \"nearest\"\n",
    "plt.rcParams[\"image.cmap\"] = \"gray\"\n",
    "\n",
    "# for auto-reloading extenrnal modules\n",
    "# see http://stackoverflow.com/questions/1907993/autoreload-of-modules-in-ipython\n",
    "%load_ext autoreload\n",
    "%autoreload 2"
   ]
  },
  {
   "cell_type": "code",
   "execution_count": 3,
   "id": "b99594ec",
   "metadata": {
    "colab": {
     "base_uri": "https://localhost:8080/"
    },
    "id": "b99594ec",
    "outputId": "2fa676f7-bc5d-4756-cfcf-3e6e6fd10f3a",
    "tags": [
     "pdf-ignore"
    ]
   },
   "outputs": [
    {
     "name": "stdout",
     "output_type": "stream",
     "text": [
      "Train data shape:  (49000, 3073)\n",
      "Train labels shape:  (49000,)\n",
      "Validation data shape:  (1000, 3073)\n",
      "Validation labels shape:  (1000,)\n",
      "Test data shape:  (1000, 3073)\n",
      "Test labels shape:  (1000,)\n",
      "dev data shape:  (500, 3073)\n",
      "dev labels shape:  (500,)\n"
     ]
    }
   ],
   "source": [
    "def get_CIFAR10_data(\n",
    "    num_training=49000, num_validation=1000, num_test=1000, num_dev=500\n",
    "):\n",
    "    \"\"\"\n",
    "    Load the CIFAR-10 dataset from disk and perform preprocessing to prepare\n",
    "    it for the linear classifier. These are the same steps as we used for the\n",
    "    SVM, but condensed to a single function.\n",
    "    \"\"\"\n",
    "    # Load the raw CIFAR-10 data\n",
    "    cifar10_dir = \"cs231n/datasets/cifar-10-batches-py\"\n",
    "\n",
    "    # Cleaning up variables to prevent loading data multiple times (which may cause memory issue)\n",
    "    try:\n",
    "        del X_train, y_train\n",
    "        del X_test, y_test\n",
    "        print(\"Clear previously loaded data.\")\n",
    "    except:\n",
    "        pass\n",
    "\n",
    "    X_train, y_train, X_test, y_test = load_CIFAR10(cifar10_dir)\n",
    "\n",
    "    # subsample the data\n",
    "    mask = list(range(num_training, num_training + num_validation))\n",
    "    X_val = X_train[mask]\n",
    "    y_val = y_train[mask]\n",
    "    mask = list(range(num_training))\n",
    "    X_train = X_train[mask]\n",
    "    y_train = y_train[mask]\n",
    "    mask = list(range(num_test))\n",
    "    X_test = X_test[mask]\n",
    "    y_test = y_test[mask]\n",
    "    mask = np.random.choice(num_training, num_dev, replace=False)\n",
    "    X_dev = X_train[mask]\n",
    "    y_dev = y_train[mask]\n",
    "\n",
    "    # Preprocessing: reshape the image data into rows\n",
    "    X_train = np.reshape(X_train, (X_train.shape[0], -1))\n",
    "    X_val = np.reshape(X_val, (X_val.shape[0], -1))\n",
    "    X_test = np.reshape(X_test, (X_test.shape[0], -1))\n",
    "    X_dev = np.reshape(X_dev, (X_dev.shape[0], -1))\n",
    "\n",
    "    # Normalize the data: subtract the mean image\n",
    "    mean_image = np.mean(X_train, axis=0)\n",
    "    X_train -= mean_image\n",
    "    X_val -= mean_image\n",
    "    X_test -= mean_image\n",
    "    X_dev -= mean_image\n",
    "\n",
    "    # add bias dimension and transform into columns\n",
    "    X_train = np.hstack([X_train, np.ones((X_train.shape[0], 1))])\n",
    "    X_val = np.hstack([X_val, np.ones((X_val.shape[0], 1))])\n",
    "    X_test = np.hstack([X_test, np.ones((X_test.shape[0], 1))])\n",
    "    X_dev = np.hstack([X_dev, np.ones((X_dev.shape[0], 1))])\n",
    "\n",
    "    return X_train, y_train, X_val, y_val, X_test, y_test, X_dev, y_dev\n",
    "\n",
    "\n",
    "# Invoke the above function to get our data.\n",
    "X_train, y_train, X_val, y_val, X_test, y_test, X_dev, y_dev = get_CIFAR10_data()\n",
    "print(\"Train data shape: \", X_train.shape)\n",
    "print(\"Train labels shape: \", y_train.shape)\n",
    "print(\"Validation data shape: \", X_val.shape)\n",
    "print(\"Validation labels shape: \", y_val.shape)\n",
    "print(\"Test data shape: \", X_test.shape)\n",
    "print(\"Test labels shape: \", y_test.shape)\n",
    "print(\"dev data shape: \", X_dev.shape)\n",
    "print(\"dev labels shape: \", y_dev.shape)"
   ]
  },
  {
   "cell_type": "markdown",
   "id": "2713b7f4",
   "metadata": {
    "id": "2713b7f4"
   },
   "source": [
    "## Softmax Classifier\n",
    "\n",
    "Your code for this section will all be written inside `cs231n/classifiers/softmax.py`.\n"
   ]
  },
  {
   "cell_type": "code",
   "execution_count": 4,
   "id": "6168f67e",
   "metadata": {
    "colab": {
     "base_uri": "https://localhost:8080/"
    },
    "id": "6168f67e",
    "outputId": "bd54b663-7e9a-4bbd-d813-fbd2babd81a1"
   },
   "outputs": [
    {
     "name": "stdout",
     "output_type": "stream",
     "text": [
      "loss: 2.374300\n",
      "sanity check: 2.302585\n"
     ]
    }
   ],
   "source": [
    "# First implement the naive softmax loss function with nested loops.\n",
    "# Open the file cs231n/classifiers/softmax.py and implement the\n",
    "# softmax_loss_naive function.\n",
    "\n",
    "from cs231n.classifiers.softmax import softmax_loss_naive\n",
    "import time\n",
    "\n",
    "# Generate a random softmax weight matrix and use it to compute the loss.\n",
    "W = np.random.randn(3073, 10) * 0.0001\n",
    "loss, grad = softmax_loss_naive(W, X_dev, y_dev, 0.0)\n",
    "\n",
    "# As a rough sanity check, our loss should be something close to -log(0.1).\n",
    "print(\"loss: %f\" % loss)\n",
    "print(\"sanity check: %f\" % (-np.log(0.1)))"
   ]
  },
  {
   "cell_type": "markdown",
   "id": "b35bc604",
   "metadata": {
    "id": "b35bc604",
    "tags": [
     "pdf-inline"
    ]
   },
   "source": [
    "**Inline Question 1**\n",
    "\n",
    "Why do we expect our loss to be close to $-\\log(0.1)$? Explain briefly.\n",
    "\n",
    "$\\color{blue}{\\textit Your Answer:}$\n",
    "\n",
    "There are `10` classes which means that, on average, there is `0.1` probability to correctly classify the true label by guessing randomly. Since our weights are intialized randomly and since the pure _softmax_ squashes a vector of raw scores into probabilities, the probability of getting a correct guess is also `0.1`. We expect $-\\log(0.1)$ because the actual loss function calculates _cross-entropy_.\n",
    "\n"
   ]
  },
  {
   "cell_type": "code",
   "execution_count": 5,
   "id": "b7bef674",
   "metadata": {
    "colab": {
     "base_uri": "https://localhost:8080/"
    },
    "id": "b7bef674",
    "outputId": "b29db500-b1c1-427d-ee77-f4a56605ab7a"
   },
   "outputs": [
    {
     "name": "stdout",
     "output_type": "stream",
     "text": [
      "numerical: 2.632743 analytic: 2.632742, relative error: 1.587500e-08\n",
      "numerical: 0.739326 analytic: 0.739326, relative error: 1.164276e-08\n",
      "numerical: 0.309795 analytic: 0.309795, relative error: 1.522108e-07\n",
      "numerical: 3.929526 analytic: 3.929525, relative error: 2.011797e-08\n",
      "numerical: -0.848010 analytic: -0.848010, relative error: 3.625213e-08\n",
      "numerical: 2.406771 analytic: 2.406771, relative error: 2.011820e-08\n",
      "numerical: 1.887375 analytic: 1.887375, relative error: 1.396969e-08\n",
      "numerical: 2.129994 analytic: 2.129994, relative error: 1.620377e-09\n",
      "numerical: -2.472008 analytic: -2.472008, relative error: 1.625761e-08\n",
      "numerical: 2.158652 analytic: 2.158652, relative error: 2.300503e-08\n",
      "numerical: 0.002872 analytic: 0.002872, relative error: 2.123228e-05\n",
      "numerical: -2.194437 analytic: -2.194437, relative error: 4.856559e-09\n",
      "numerical: 0.315613 analytic: 0.315612, relative error: 2.175138e-07\n",
      "numerical: 0.139922 analytic: 0.139922, relative error: 2.535054e-07\n",
      "numerical: 3.029442 analytic: 3.029442, relative error: 2.475005e-08\n",
      "numerical: 2.425536 analytic: 2.425536, relative error: 8.576923e-09\n",
      "numerical: -3.358473 analytic: -3.358473, relative error: 1.733117e-08\n",
      "numerical: -0.242969 analytic: -0.242969, relative error: 7.950315e-08\n",
      "numerical: -2.110866 analytic: -2.110866, relative error: 2.731944e-08\n",
      "numerical: 0.729232 analytic: 0.729232, relative error: 1.778253e-08\n"
     ]
    }
   ],
   "source": [
    "# Complete the implementation of softmax_loss_naive and implement a (naive)\n",
    "# version of the gradient that uses nested loops.\n",
    "loss, grad = softmax_loss_naive(W, X_dev, y_dev, 0.0)\n",
    "\n",
    "# As we did for the SVM, use numeric gradient checking as a debugging tool.\n",
    "# The numeric gradient should be close to the analytic gradient.\n",
    "from cs231n.gradient_check import grad_check_sparse\n",
    "\n",
    "f = lambda w: softmax_loss_naive(w, X_dev, y_dev, 0.0)[0]\n",
    "grad_numerical = grad_check_sparse(f, W, grad, 10)\n",
    "\n",
    "# similar to SVM case, do another gradient check with regularization\n",
    "loss, grad = softmax_loss_naive(W, X_dev, y_dev, 5e1)\n",
    "f = lambda w: softmax_loss_naive(w, X_dev, y_dev, 5e1)[0]\n",
    "grad_numerical = grad_check_sparse(f, W, grad, 10)"
   ]
  },
  {
   "cell_type": "code",
   "execution_count": 6,
   "id": "3994f8a3",
   "metadata": {
    "colab": {
     "base_uri": "https://localhost:8080/"
    },
    "id": "3994f8a3",
    "outputId": "9e7e3af8-c1fd-469c-8f84-1e4c96adce1b"
   },
   "outputs": [
    {
     "name": "stdout",
     "output_type": "stream",
     "text": [
      "naive loss: 2.374300e+00 computed in 0.080678s\n",
      "vectorized loss: 2.374300e+00 computed in 0.012928s\n",
      "Loss difference: 0.000000\n",
      "Gradient difference: 0.000000\n"
     ]
    }
   ],
   "source": [
    "# Now that we have a naive implementation of the softmax loss function and its gradient,\n",
    "# implement a vectorized version in softmax_loss_vectorized.\n",
    "# The two versions should compute the same results, but the vectorized version should be\n",
    "# much faster.\n",
    "tic = time.time()\n",
    "loss_naive, grad_naive = softmax_loss_naive(W, X_dev, y_dev, 0.000005)\n",
    "toc = time.time()\n",
    "print(\"naive loss: %e computed in %fs\" % (loss_naive, toc - tic))\n",
    "\n",
    "from cs231n.classifiers.softmax import softmax_loss_vectorized\n",
    "\n",
    "tic = time.time()\n",
    "loss_vectorized, grad_vectorized = softmax_loss_vectorized(W, X_dev, y_dev, 0.000005)\n",
    "toc = time.time()\n",
    "print(\"vectorized loss: %e computed in %fs\" % (loss_vectorized, toc - tic))\n",
    "\n",
    "# As we did for the SVM, we use the Frobenius norm to compare the two versions\n",
    "# of the gradient.\n",
    "grad_difference = np.linalg.norm(grad_naive - grad_vectorized, ord=\"fro\")\n",
    "print(\"Loss difference: %f\" % np.abs(loss_naive - loss_vectorized))\n",
    "print(\"Gradient difference: %f\" % grad_difference)"
   ]
  },
  {
   "cell_type": "code",
   "execution_count": 7,
   "id": "bd171311",
   "metadata": {
    "colab": {
     "base_uri": "https://localhost:8080/"
    },
    "id": "bd171311",
    "outputId": "04d67cfd-f45d-494a-e6a0-7a469e8acaae",
    "tags": [
     "code"
    ],
    "test": "tuning"
   },
   "outputs": [
    {
     "name": "stdout",
     "output_type": "stream",
     "text": [
      "lr 1.000000e-07 reg 2.500000e+04 train accuracy: 0.332469 val accuracy: 0.342000\n",
      "lr 1.000000e-07 reg 2.973018e+04 train accuracy: 0.324837 val accuracy: 0.333000\n",
      "lr 1.000000e-07 reg 3.535534e+04 train accuracy: 0.314735 val accuracy: 0.337000\n",
      "lr 1.000000e-07 reg 4.204482e+04 train accuracy: 0.316163 val accuracy: 0.325000\n",
      "lr 1.000000e-07 reg 5.000000e+04 train accuracy: 0.309122 val accuracy: 0.323000\n",
      "lr 1.495349e-07 reg 2.500000e+04 train accuracy: 0.320918 val accuracy: 0.333000\n",
      "lr 1.495349e-07 reg 2.973018e+04 train accuracy: 0.323347 val accuracy: 0.332000\n",
      "lr 1.495349e-07 reg 3.535534e+04 train accuracy: 0.318837 val accuracy: 0.328000\n",
      "lr 1.495349e-07 reg 4.204482e+04 train accuracy: 0.306959 val accuracy: 0.321000\n",
      "lr 1.495349e-07 reg 5.000000e+04 train accuracy: 0.297449 val accuracy: 0.314000\n",
      "lr 2.236068e-07 reg 2.500000e+04 train accuracy: 0.329388 val accuracy: 0.342000\n",
      "lr 2.236068e-07 reg 2.973018e+04 train accuracy: 0.309837 val accuracy: 0.328000\n",
      "lr 2.236068e-07 reg 3.535534e+04 train accuracy: 0.317878 val accuracy: 0.327000\n",
      "lr 2.236068e-07 reg 4.204482e+04 train accuracy: 0.307388 val accuracy: 0.318000\n",
      "lr 2.236068e-07 reg 5.000000e+04 train accuracy: 0.305612 val accuracy: 0.313000\n",
      "lr 3.343702e-07 reg 2.500000e+04 train accuracy: 0.320469 val accuracy: 0.345000\n",
      "lr 3.343702e-07 reg 2.973018e+04 train accuracy: 0.322653 val accuracy: 0.324000\n",
      "lr 3.343702e-07 reg 3.535534e+04 train accuracy: 0.310510 val accuracy: 0.329000\n",
      "lr 3.343702e-07 reg 4.204482e+04 train accuracy: 0.319041 val accuracy: 0.335000\n",
      "lr 3.343702e-07 reg 5.000000e+04 train accuracy: 0.293776 val accuracy: 0.314000\n",
      "lr 5.000000e-07 reg 2.500000e+04 train accuracy: 0.330490 val accuracy: 0.343000\n",
      "lr 5.000000e-07 reg 2.973018e+04 train accuracy: 0.308571 val accuracy: 0.321000\n",
      "lr 5.000000e-07 reg 3.535534e+04 train accuracy: 0.308449 val accuracy: 0.325000\n",
      "lr 5.000000e-07 reg 4.204482e+04 train accuracy: 0.315837 val accuracy: 0.332000\n",
      "lr 5.000000e-07 reg 5.000000e+04 train accuracy: 0.308388 val accuracy: 0.323000\n",
      "best validation accuracy achieved during cross-validation: 0.345000\n"
     ]
    }
   ],
   "source": [
    "# Use the validation set to tune hyperparameters (regularization strength and\n",
    "# learning rate). You should experiment with different ranges for the learning\n",
    "# rates and regularization strengths; if you are careful you should be able to\n",
    "# get a classification accuracy of over 0.35 on the validation set.\n",
    "\n",
    "from cs231n.classifiers import Softmax\n",
    "\n",
    "results = {}\n",
    "best_val = -1\n",
    "best_softmax = None\n",
    "\n",
    "################################################################################\n",
    "# TODO:                                                                        #\n",
    "# Use the validation set to set the learning rate and regularization strength. #\n",
    "# This should be identical to the validation that you did for the SVM; save    #\n",
    "# the best trained softmax classifer in best_softmax.                          #\n",
    "################################################################################\n",
    "\n",
    "# Provided as a reference. You may or may not want to change these hyperparameters\n",
    "# learning_rates = [1e-7, 5e-7]\n",
    "# regularization_strengths = [2.5e4, 5e4]\n",
    "\n",
    "# *****START OF YOUR CODE (DO NOT DELETE/MODIFY THIS LINE)*****\n",
    "\n",
    "learning_rates = np.geomspace(1e-7, 5e-7, 5)\n",
    "regularization_strengths = np.geomspace(2.5e4, 5e4, 5)\n",
    "\n",
    "from itertools import product\n",
    "\n",
    "# num_iters = 5 # pick a small value for num_iters as you develop your validation code\n",
    "num_iters = 1000\n",
    "\n",
    "for lr, reg in product(learning_rates, regularization_strengths):\n",
    "\n",
    "    # Create Softmax classifier and train it\n",
    "    softmax = Softmax()\n",
    "    softmax.train(\n",
    "        X_train,\n",
    "        y_train,\n",
    "        learning_rate=lr,\n",
    "        reg=reg,\n",
    "        num_iters=num_iters,\n",
    "        verbose=False,\n",
    "    )\n",
    "\n",
    "    # Predict on X_train and X_val sets\n",
    "    y_train_pred = softmax.predict(X_train)\n",
    "    y_val_pred = softmax.predict(X_val)\n",
    "\n",
    "    # Compute training and validation sets accuracies\n",
    "    train_accuracy = np.mean(y_train == y_train_pred)\n",
    "    val_accuracy = np.mean(y_val == y_val_pred)\n",
    "\n",
    "    # Store results to dictionary\n",
    "    results[(lr, reg)] = (train_accuracy, val_accuracy)\n",
    "\n",
    "    # Save if validation accuracy is the best\n",
    "    if val_accuracy > best_val:\n",
    "        best_val = val_accuracy\n",
    "        best_softmax = softmax\n",
    "\n",
    "# *****END OF YOUR CODE (DO NOT DELETE/MODIFY THIS LINE)*****\n",
    "\n",
    "# Print out results.\n",
    "for lr, reg in sorted(results):\n",
    "    train_accuracy, val_accuracy = results[(lr, reg)]\n",
    "    print(\n",
    "        \"lr %e reg %e train accuracy: %f val accuracy: %f\"\n",
    "        % (lr, reg, train_accuracy, val_accuracy)\n",
    "    )\n",
    "\n",
    "print(\"best validation accuracy achieved during cross-validation: %f\" % best_val)"
   ]
  },
  {
   "cell_type": "code",
   "execution_count": 8,
   "id": "f94a8f12",
   "metadata": {
    "colab": {
     "base_uri": "https://localhost:8080/"
    },
    "id": "f94a8f12",
    "outputId": "5a006986-cbd1-490c-ecd5-c2bb66bcf9db",
    "test": "test"
   },
   "outputs": [
    {
     "name": "stdout",
     "output_type": "stream",
     "text": [
      "softmax on raw pixels final test set accuracy: 0.330000\n"
     ]
    }
   ],
   "source": [
    "# evaluate on test set\n",
    "# Evaluate the best softmax on test set\n",
    "y_test_pred = best_softmax.predict(X_test)\n",
    "test_accuracy = np.mean(y_test == y_test_pred)\n",
    "print(\"softmax on raw pixels final test set accuracy: %f\" % (test_accuracy,))"
   ]
  },
  {
   "cell_type": "markdown",
   "id": "7e2112ee",
   "metadata": {
    "id": "7e2112ee",
    "tags": [
     "pdf-inline"
    ]
   },
   "source": [
    "**Inline Question 2** - *True or False*\n",
    "\n",
    "Suppose the overall training loss is defined as the sum of the per-datapoint loss over all training examples. It is possible to add a new datapoint to a training set that would leave the SVM loss unchanged, but this is not the case with the Softmax classifier loss.\n",
    "\n",
    "$\\color{blue}{\\textit Your Answer:}$\n",
    "\n",
    "_True_\n",
    "\n",
    "$\\color{blue}{\\textit Your Explanation:}$\n",
    "\n",
    "First, let us revise how the individual loss functions look:\n",
    "\n",
    "$\\text{Given: }$\n",
    "- $s$: score\n",
    "- $y_{i}$: correct class\n",
    "- $j$: any other class\n",
    "- $\\Delta$: margin\n",
    "\n",
    "$$\\text{SVM loss: }\\ L_{n} = \\sum_{j\\ne y_{i}}\\max(0, s_{j}-s_{y_{i}}+\\Delta)$$\n",
    "\n",
    "$$\\text{Softmax loss: }\\ L_{n}=-\\log\\left(\\frac{e^{s_{y_{i}}}}{\\sum_{j}e^{s_{j}}}\\right)$$\n",
    "\n",
    "- The nature of **SVM loss** is to train the model to assign a high enough score for the correct label. The total loss is unaffected if the scores for the incorrect labels are already lower by some margin than the score for a correct label because nothing is added to the overall loss. In simpler terms, if the score for the correct label remains the highest among all other classes, the loss does not change.\n",
    "- The nature of **Softmax loss** is to train the model to raise the probability for the correct label to `1` while it forces the probabilities for other labels to `0`. The loss is always affected because no matter how small the score for an incorrect label is, some probability for the incorrect label still exists. Therefore, the probability for the true label will never be `1`. In simpler terms, the **Softmax loss** tries to accumulate as much probability density as possible on the true label while removing as much probability density as it can away from the incorrect labels.\n",
    "  - **Aside:** theoretically, if all the scores for incorrect classes were $-\\infty$, the probability for the correct class would be `1` so the individual loss would be $-\\log 1=0$ and that would not affect the overall loss.\n",
    "- Assuming the overall loss is just the sum of every individual loss, adding a new data point does not affect the **SVM loss**, however, it is guaranteed to affect the **Softmax loss** by some (however tiny) amount.\n",
    "\n",
    "**Example:**\n",
    "- Suppose we get a score vector $\\mathbf{s}=\\begin{bmatrix}1 \\\\ 0\\end{bmatrix}$ and that the first entry represents the score for a correct class and the second entry represents the score for the incorrect class (i.e. $s_{y_{1}}=1$ and $s_{j}=0$).\n",
    "- Assuming our margin for **SVM loss** is $1$(i.e. $\\Delta=1$), then individual loss is $0$ because it satisfies the margin.\n",
    "\n",
    "$$ L_{n} = \\max(0, 0 - 1 + 1) = 0$$\n",
    "\n",
    "- However, the individual **Softmax loss** will produce a value of $\\log(1+e)-1$ which will affect the overall loss.\n",
    "\n",
    "$$ L_{n}=-\\log\\left(\\frac{e^{s_{y_{i}}}}{\\sum_{j}e^{s_{j}}}\\right) = -s_{y_{i}} + \\log\\sum_{j}e^{s_{j}} = -1 + \\log(1 + e)$$\n",
    "\n",
    "<br>\n",
    "\n",
    "Hence it is possible to add a datapoint which would not affect the (described) overall **SVM loss** but would affect the overall **Softmax loss**."
   ]
  },
  {
   "cell_type": "code",
   "execution_count": 9,
   "id": "86d86120",
   "metadata": {
    "colab": {
     "base_uri": "https://localhost:8080/",
     "height": 528
    },
    "id": "86d86120",
    "outputId": "5518a03d-5bc6-47f2-a61b-5cd9659ed28b"
   },
   "outputs": [
    {
     "data": {
      "image/png": "[encoded data removed]",
      "text/plain": [
       "<Figure size 1000x800 with 10 Axes>"
      ]
     },
     "metadata": {},
     "output_type": "display_data"
    }
   ],
   "source": [
    "# Visualize the learned weights for each class\n",
    "w = best_softmax.W[:-1, :]  # strip out the bias\n",
    "w = w.reshape(32, 32, 3, 10)\n",
    "\n",
    "w_min, w_max = np.min(w), np.max(w)\n",
    "\n",
    "classes = [\n",
    "    \"plane\",\n",
    "    \"car\",\n",
    "    \"bird\",\n",
    "    \"cat\",\n",
    "    \"deer\",\n",
    "    \"dog\",\n",
    "    \"frog\",\n",
    "    \"horse\",\n",
    "    \"ship\",\n",
    "    \"truck\",\n",
    "]\n",
    "for i in range(10):\n",
    "    plt.subplot(2, 5, i + 1)\n",
    "\n",
    "    # Rescale the weights to be between 0 and 255\n",
    "    wimg = 255.0 * (w[:, :, :, i].squeeze() - w_min) / (w_max - w_min)\n",
    "    plt.imshow(wimg.astype(\"uint8\"))\n",
    "    plt.axis(\"off\")\n",
    "    plt.title(classes[i])"
   ]
  },
  {
   "cell_type": "code",
   "execution_count": 9,
   "id": "24688f99",
   "metadata": {
    "id": "24688f99"
   },
   "outputs": [],
   "source": []
  }
 ],
 "metadata": {
  "colab": {
   "provenance": []
  },
  "kernelspec": {
   "display_name": "Python 3",
   "name": "python3"
  },
  "language_info": {
   "name": "python",
   "version": "3.12.3"
  }
 },
 "nbformat": 4,
 "nbformat_minor": 5
}
